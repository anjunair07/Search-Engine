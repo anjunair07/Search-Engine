{
 "cells": [
  {
   "cell_type": "code",
   "execution_count": 1,
   "metadata": {},
   "outputs": [],
   "source": [
    "# Import Libraries\n",
    "import nltk\n",
    "import json\n",
    "from nltk.stem import WordNetLemmatizer\n",
    "from nltk.tokenize import word_tokenize\n",
    "from nltk.corpus import stopwords\n",
    "from nltk.stem import PorterStemmer"
   ]
  },
  {
   "cell_type": "code",
   "execution_count": 2,
   "metadata": {},
   "outputs": [],
   "source": [
    "stop_words = set(stopwords.words('english'))\n",
    "port=PorterStemmer()\n",
    "lemmatizer = WordNetLemmatizer()"
   ]
  },
  {
   "cell_type": "code",
   "execution_count": 3,
   "metadata": {},
   "outputs": [],
   "source": [
    "# Import data from json file\n",
    "with open('/Users/anjun/Desktop/Sem2/7071/Coursework_7071CEM/Codes/publication_list.json',encoding='utf8') as json_file:\n",
    "    data = json.load(json_file)"
   ]
  },
  {
   "cell_type": "code",
   "execution_count": 27,
   "metadata": {},
   "outputs": [],
   "source": [
    "# develop a search engine to take user input and return the publications that match the input\n",
    "def search_engine(input_here):\n",
    "    input_here = input_here.lower()\n",
    "    input_here = word_tokenize(input_here)\n",
    "    input_here = [lemmatizer.lemmatize(word) for word in input_here]\n",
    "    input_here = [word for word in input_here if not word in stop_words] \n",
    "    input_here = [port.stem(word) for word in input_here]\n",
    "    input_here = ' '.join(input_here)\n",
    "    for publication in data:\n",
    "        if input_here in publication['Title_New']:\n",
    "            print('Index - ' + str(publication['Index']))\n",
    "            print('Title - ' + publication['Title'])\n",
    "            print('Authors - ' +','.join(publication['Authors']))\n",
    "            print(\"Author's Profile - \" + ','.join(publication[\"Author's Profile\"]))\n",
    "            print('Publication Link - ' + publication['Publication Link'])\n",
    "            print('Publication Year - ' + publication['Publication Year'])\n",
    "            print('Category - ' + publication['Category'])\n",
    "            print('\\n')\n",
    "        for author in publication['Authors_New']:\n",
    "            if input_here in author:\n",
    "                print('Index - ' + str(publication['Index']))\n",
    "                print('Title - ' + publication['Title'])\n",
    "                print('Authors - ' + ','.join(publication['Authors']))\n",
    "                print(\"Author's Profile - \" + ','.join(publication[\"Author's Profile\"]))\n",
    "                print('Publication Link - ' + publication['Publication Link'])\n",
    "                print('Publication Year - '+ publication['Publication Year'])\n",
    "                print('Category - ' + publication['Category'])\n",
    "                print('\\n')\n",
    "    return\n",
    "    "
   ]
  },
  {
   "cell_type": "code",
   "execution_count": 45,
   "metadata": {},
   "outputs": [],
   "source": [
    "# import the user input\n",
    "input_here = input('Enter your search query: ')\n",
    "search_engine(input_here)"
   ]
  },
  {
   "cell_type": "code",
   "execution_count": null,
   "metadata": {},
   "outputs": [],
   "source": []
  }
 ],
 "metadata": {
  "kernelspec": {
   "display_name": "Python 3.9.12 ('base')",
   "language": "python",
   "name": "python3"
  },
  "language_info": {
   "codemirror_mode": {
    "name": "ipython",
    "version": 3
   },
   "file_extension": ".py",
   "mimetype": "text/x-python",
   "name": "python",
   "nbconvert_exporter": "python",
   "pygments_lexer": "ipython3",
   "version": "3.9.12"
  },
  "orig_nbformat": 4,
  "vscode": {
   "interpreter": {
    "hash": "9f274c8b711e2131c324422a96c2caa3ad8dfe2413baebe775e64585dc86464f"
   }
  }
 },
 "nbformat": 4,
 "nbformat_minor": 2
}
